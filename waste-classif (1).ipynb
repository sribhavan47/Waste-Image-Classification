{
 "cells": [
  {
   "cell_type": "code",
   "execution_count": 1,
   "id": "fa8a743c",
   "metadata": {
    "execution": {
     "iopub.execute_input": "2023-11-23T04:01:26.888745Z",
     "iopub.status.busy": "2023-11-23T04:01:26.888000Z",
     "iopub.status.idle": "2023-11-23T04:01:26.898062Z",
     "shell.execute_reply": "2023-11-23T04:01:26.897302Z"
    },
    "papermill": {
     "duration": 0.017356,
     "end_time": "2023-11-23T04:01:26.900024",
     "exception": false,
     "start_time": "2023-11-23T04:01:26.882668",
     "status": "completed"
    },
    "tags": []
   },
   "outputs": [],
   "source": [
    "import warnings\n",
    "warnings.filterwarnings('ignore')"
   ]
  },
  {
   "cell_type": "code",
   "execution_count": 2,
   "id": "c0526542",
   "metadata": {
    "execution": {
     "iopub.execute_input": "2023-11-23T04:01:26.908343Z",
     "iopub.status.busy": "2023-11-23T04:01:26.908006Z",
     "iopub.status.idle": "2023-11-23T04:01:27.741660Z",
     "shell.execute_reply": "2023-11-23T04:01:27.740867Z"
    },
    "papermill": {
     "duration": 0.840336,
     "end_time": "2023-11-23T04:01:27.744016",
     "exception": false,
     "start_time": "2023-11-23T04:01:26.903680",
     "status": "completed"
    },
    "tags": []
   },
   "outputs": [],
   "source": [
    "import numpy as np\n",
    "import pandas as pd"
   ]
  },
  {
   "cell_type": "code",
   "execution_count": 3,
   "id": "027f406c",
   "metadata": {
    "execution": {
     "iopub.execute_input": "2023-11-23T04:01:27.752008Z",
     "iopub.status.busy": "2023-11-23T04:01:27.751601Z",
     "iopub.status.idle": "2023-11-23T04:01:27.755626Z",
     "shell.execute_reply": "2023-11-23T04:01:27.754871Z"
    },
    "papermill": {
     "duration": 0.010025,
     "end_time": "2023-11-23T04:01:27.757474",
     "exception": false,
     "start_time": "2023-11-23T04:01:27.747449",
     "status": "completed"
    },
    "tags": []
   },
   "outputs": [],
   "source": [
    "train_directory = '/kaggle/input/waste-classif/Data/archive (2)/TRAIN'"
   ]
  },
  {
   "cell_type": "code",
   "execution_count": 4,
   "id": "e481ed6c",
   "metadata": {
    "execution": {
     "iopub.execute_input": "2023-11-23T04:01:27.764773Z",
     "iopub.status.busy": "2023-11-23T04:01:27.764511Z",
     "iopub.status.idle": "2023-11-23T04:01:27.768247Z",
     "shell.execute_reply": "2023-11-23T04:01:27.767450Z"
    },
    "papermill": {
     "duration": 0.009462,
     "end_time": "2023-11-23T04:01:27.770145",
     "exception": false,
     "start_time": "2023-11-23T04:01:27.760683",
     "status": "completed"
    },
    "tags": []
   },
   "outputs": [],
   "source": [
    "test_directory = '/kaggle/input/waste-classif/Data/archive (2)/TEST'"
   ]
  },
  {
   "cell_type": "code",
   "execution_count": 5,
   "id": "c50b18e0",
   "metadata": {
    "execution": {
     "iopub.execute_input": "2023-11-23T04:01:27.777536Z",
     "iopub.status.busy": "2023-11-23T04:01:27.777292Z",
     "iopub.status.idle": "2023-11-23T04:02:28.987314Z",
     "shell.execute_reply": "2023-11-23T04:02:28.986481Z"
    },
    "papermill": {
     "duration": 61.216371,
     "end_time": "2023-11-23T04:02:28.989666",
     "exception": false,
     "start_time": "2023-11-23T04:01:27.773295",
     "status": "completed"
    },
    "tags": []
   },
   "outputs": [
    {
     "name": "stdout",
     "output_type": "stream",
     "text": [
      "Found 20545 files belonging to 3 classes.\n"
     ]
    }
   ],
   "source": [
    "import tensorflow as tf\n",
    "\n",
    "dataset = tf.keras.utils.image_dataset_from_directory(\n",
    "    train_directory,\n",
    "    labels=\"inferred\",\n",
    "    label_mode=\"categorical\",\n",
    "    image_size=(128, 128),\n",
    "    batch_size=32,\n",
    "    shuffle=True,\n",
    "    seed=42,\n",
    ")"
   ]
  },
  {
   "cell_type": "code",
   "execution_count": 6,
   "id": "00c31a12",
   "metadata": {
    "execution": {
     "iopub.execute_input": "2023-11-23T04:02:28.998218Z",
     "iopub.status.busy": "2023-11-23T04:02:28.997714Z",
     "iopub.status.idle": "2023-11-23T04:02:30.925167Z",
     "shell.execute_reply": "2023-11-23T04:02:30.924427Z"
    },
    "papermill": {
     "duration": 1.934073,
     "end_time": "2023-11-23T04:02:30.927275",
     "exception": false,
     "start_time": "2023-11-23T04:02:28.993202",
     "status": "completed"
    },
    "tags": []
   },
   "outputs": [
    {
     "name": "stdout",
     "output_type": "stream",
     "text": [
      "Found 2528 files belonging to 3 classes.\n"
     ]
    }
   ],
   "source": [
    "validation_dataset = tf.keras.utils.image_dataset_from_directory(\n",
    "    test_directory,\n",
    "    labels=\"inferred\",\n",
    "    label_mode=\"categorical\",\n",
    "    image_size=(128, 128),\n",
    "    batch_size=32,\n",
    "    shuffle=True,\n",
    "    seed=42,\n",
    ")"
   ]
  },
  {
   "cell_type": "code",
   "execution_count": 7,
   "id": "2a1454a9",
   "metadata": {
    "execution": {
     "iopub.execute_input": "2023-11-23T04:02:30.936068Z",
     "iopub.status.busy": "2023-11-23T04:02:30.935763Z",
     "iopub.status.idle": "2023-11-23T04:02:30.944814Z",
     "shell.execute_reply": "2023-11-23T04:02:30.944105Z"
    },
    "papermill": {
     "duration": 0.015497,
     "end_time": "2023-11-23T04:02:30.946601",
     "exception": false,
     "start_time": "2023-11-23T04:02:30.931104",
     "status": "completed"
    },
    "tags": []
   },
   "outputs": [],
   "source": [
    "from functools import partial\n",
    "\n",
    "DefaultConv2D = partial(tf.keras.layers.Conv2D, kernel_size=3, strides=1,\n",
    "                        padding=\"same\", kernel_initializer=\"he_normal\",\n",
    "                        use_bias=False)\n",
    "\n",
    "class ResidualUnit(tf.keras.layers.Layer):\n",
    "    def __init__(self, filters, strides=1, activation=\"relu\", **kwargs):\n",
    "        super().__init__(**kwargs)\n",
    "        self.activation = tf.keras.activations.get(activation)\n",
    "        self.main_layers = [\n",
    "            DefaultConv2D(filters, strides=strides),\n",
    "            tf.keras.layers.BatchNormalization(),\n",
    "            self.activation,\n",
    "            DefaultConv2D(filters),\n",
    "            tf.keras.layers.BatchNormalization()\n",
    "        ]\n",
    "        self.skip_layers = []\n",
    "        if strides > 1:\n",
    "            self.skip_layers = [\n",
    "                DefaultConv2D(filters, kernel_size=1, strides=strides),\n",
    "                tf.keras.layers.BatchNormalization()\n",
    "            ]\n",
    "\n",
    "    def call(self, inputs):\n",
    "        Z = inputs\n",
    "        for layer in self.main_layers:\n",
    "            Z = layer(Z)\n",
    "        skip_Z = inputs\n",
    "        for layer in self.skip_layers:\n",
    "            skip_Z = layer(skip_Z)\n",
    "        return self.activation(Z + skip_Z)"
   ]
  },
  {
   "cell_type": "code",
   "execution_count": 8,
   "id": "5b202ce8",
   "metadata": {
    "execution": {
     "iopub.execute_input": "2023-11-23T04:02:30.954323Z",
     "iopub.status.busy": "2023-11-23T04:02:30.954019Z",
     "iopub.status.idle": "2023-11-23T04:02:31.961541Z",
     "shell.execute_reply": "2023-11-23T04:02:31.960590Z"
    },
    "papermill": {
     "duration": 1.014169,
     "end_time": "2023-11-23T04:02:31.964037",
     "exception": false,
     "start_time": "2023-11-23T04:02:30.949868",
     "status": "completed"
    },
    "tags": []
   },
   "outputs": [],
   "source": [
    "model = tf.keras.Sequential([\n",
    "    DefaultConv2D(64, kernel_size=7, strides=2, input_shape=[128, 128, 3]),\n",
    "    tf.keras.layers.BatchNormalization(),\n",
    "    tf.keras.layers.Activation(\"relu\"),\n",
    "    tf.keras.layers.MaxPool2D(pool_size=3, strides=2, padding=\"same\"),\n",
    "])\n",
    "prev_filters = 64\n",
    "for filters in [64] * 3 + [128] * 4 + [256] * 6 + [512] * 3:\n",
    "    strides = 1 if filters == prev_filters else 2\n",
    "    model.add(ResidualUnit(filters, strides=strides))\n",
    "    prev_filters = filters\n",
    "\n",
    "model.add(tf.keras.layers.GlobalAvgPool2D())\n",
    "model.add(tf.keras.layers.Flatten())\n",
    "model.add(tf.keras.layers.Dense(3, activation=\"softmax\"))"
   ]
  },
  {
   "cell_type": "code",
   "execution_count": 9,
   "id": "bca321ea",
   "metadata": {
    "execution": {
     "iopub.execute_input": "2023-11-23T04:02:31.972192Z",
     "iopub.status.busy": "2023-11-23T04:02:31.971861Z",
     "iopub.status.idle": "2023-11-23T04:14:48.390381Z",
     "shell.execute_reply": "2023-11-23T04:14:48.389404Z"
    },
    "papermill": {
     "duration": 736.424904,
     "end_time": "2023-11-23T04:14:48.392560",
     "exception": false,
     "start_time": "2023-11-23T04:02:31.967656",
     "status": "completed"
    },
    "tags": []
   },
   "outputs": [
    {
     "name": "stdout",
     "output_type": "stream",
     "text": [
      "Epoch 1/15\n",
      "643/643 [==============================] - 74s 78ms/step - loss: 0.5649 - accuracy: 0.7736 - val_loss: 0.6163 - val_accuracy: 0.7199\n",
      "Epoch 2/15\n",
      "643/643 [==============================] - 46s 71ms/step - loss: 0.4228 - accuracy: 0.8300 - val_loss: 0.3594 - val_accuracy: 0.8619\n",
      "Epoch 3/15\n",
      "643/643 [==============================] - 48s 74ms/step - loss: 0.4015 - accuracy: 0.8422 - val_loss: 0.8406 - val_accuracy: 0.5581\n",
      "Epoch 4/15\n",
      "643/643 [==============================] - 47s 73ms/step - loss: 0.3633 - accuracy: 0.8553 - val_loss: 0.8954 - val_accuracy: 0.6119\n",
      "Epoch 5/15\n",
      "643/643 [==============================] - 47s 73ms/step - loss: 0.3564 - accuracy: 0.8592 - val_loss: 0.5156 - val_accuracy: 0.7991\n",
      "Epoch 6/15\n",
      "643/643 [==============================] - 47s 73ms/step - loss: 0.3393 - accuracy: 0.8680 - val_loss: 0.5562 - val_accuracy: 0.7231\n",
      "Epoch 7/15\n",
      "643/643 [==============================] - 47s 73ms/step - loss: 0.3267 - accuracy: 0.8700 - val_loss: 0.8872 - val_accuracy: 0.5803\n",
      "Epoch 8/15\n",
      "643/643 [==============================] - 47s 73ms/step - loss: 0.3194 - accuracy: 0.8741 - val_loss: 0.3833 - val_accuracy: 0.8604\n",
      "Epoch 9/15\n",
      "643/643 [==============================] - 47s 74ms/step - loss: 0.3054 - accuracy: 0.8790 - val_loss: 1.0154 - val_accuracy: 0.8722\n",
      "Epoch 10/15\n",
      "643/643 [==============================] - 47s 73ms/step - loss: 0.3008 - accuracy: 0.8819 - val_loss: 0.4946 - val_accuracy: 0.8667\n",
      "Epoch 11/15\n",
      "643/643 [==============================] - 47s 73ms/step - loss: 0.2848 - accuracy: 0.8895 - val_loss: 0.4089 - val_accuracy: 0.8572\n",
      "Epoch 12/15\n",
      "643/643 [==============================] - 47s 73ms/step - loss: 0.2752 - accuracy: 0.8895 - val_loss: 0.3718 - val_accuracy: 0.8726\n",
      "Epoch 13/15\n",
      "643/643 [==============================] - 48s 74ms/step - loss: 0.2662 - accuracy: 0.8936 - val_loss: 0.4534 - val_accuracy: 0.8382\n",
      "Epoch 14/15\n",
      "643/643 [==============================] - 48s 74ms/step - loss: 0.2542 - accuracy: 0.9007 - val_loss: 0.4009 - val_accuracy: 0.8394\n",
      "Epoch 15/15\n",
      "643/643 [==============================] - 47s 73ms/step - loss: 0.2469 - accuracy: 0.9058 - val_loss: 0.5623 - val_accuracy: 0.7725\n"
     ]
    }
   ],
   "source": [
    "optimizer = tf.keras.optimizers.RMSprop(learning_rate=0.001 , rho=0.9)\n",
    "model.compile(loss=\"categorical_crossentropy\", optimizer=optimizer,\n",
    "              metrics=[\"accuracy\"])\n",
    "history = model.fit(\n",
    "    dataset,\n",
    "    validation_data=validation_dataset,\n",
    "    epochs=15\n",
    ")"
   ]
  }
 ],
 "metadata": {
  "kaggle": {
   "accelerator": "nvidiaTeslaT4",
   "dataSources": [
    {
     "datasetId": 4019818,
     "sourceId": 6993728,
     "sourceType": "datasetVersion"
    }
   ],
   "dockerImageVersionId": 30588,
   "isGpuEnabled": true,
   "isInternetEnabled": true,
   "language": "python",
   "sourceType": "notebook"
  },
  "kernelspec": {
   "display_name": "Python 3",
   "language": "python",
   "name": "python3"
  },
  "language_info": {
   "codemirror_mode": {
    "name": "ipython",
    "version": 3
   },
   "file_extension": ".py",
   "mimetype": "text/x-python",
   "name": "python",
   "nbconvert_exporter": "python",
   "pygments_lexer": "ipython3",
   "version": "3.10.12"
  },
  "papermill": {
   "default_parameters": {},
   "duration": 809.153584,
   "end_time": "2023-11-23T04:14:52.445848",
   "environment_variables": {},
   "exception": null,
   "input_path": "__notebook__.ipynb",
   "output_path": "__notebook__.ipynb",
   "parameters": {},
   "start_time": "2023-11-23T04:01:23.292264",
   "version": "2.4.0"
  }
 },
 "nbformat": 4,
 "nbformat_minor": 5
}
